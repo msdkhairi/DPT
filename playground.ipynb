{
 "cells": [
  {
   "cell_type": "code",
   "execution_count": 45,
   "metadata": {},
   "outputs": [
    {
     "name": "stdout",
     "output_type": "stream",
     "text": [
      "652\n"
     ]
    }
   ],
   "source": [
    "import os\n",
    "input_path = \"/home/data/kitti\"\n",
    "data_filenames_path = \"eigen_benchmark/test_list.txt\"\n",
    "output_path = \"output_monodepth\"\n",
    "\n",
    "with open(data_filenames_path, \"r\") as file:\n",
    "    img_names = [os.path.join(input_path, line.split()[0][1:]) for line in file]\n",
    "num_images = len(img_names)\n",
    "print(num_images)\n",
    "\n",
    "# python run_monodepth.py --input_path=\"/home/data/kitti\" --data_filenames_path=\"eigen_benchmark/test_list.txt\" --output_path=\"output_monodepth\" --model_type=dpt_hybrid_kitti --kitti_crop --absolute_depth --no-optimize\n",
    "# python ./eval_with_pngs.py --pred_path ./output_monodepth/ --gt_path /home/data/kitti --dataset kitti --min_depth_eval 1e-3 --max_depth_eval 80 --garg_crop --do_kb_crop --data_filenames_path=\"eigen_benchmark/test_list.txt\""
   ]
  },
  {
   "cell_type": "code",
   "execution_count": 49,
   "metadata": {},
   "outputs": [
    {
     "name": "stdout",
     "output_type": "stream",
     "text": [
      "652\n"
     ]
    }
   ],
   "source": [
    "import os\n",
    "input_path = \"output_monodepth\"\n",
    "data_filenames_path = \"eigen_benchmark/test_list.txt\"\n",
    "output_path = \"output_monodepth\"\n",
    "\n",
    "with open(data_filenames_path, \"r\") as file:\n",
    "    img_names = [os.path.join(input_path, line.split()[0][1:]) for line in file]\n",
    "num_images = len(img_names)\n",
    "print(num_images)"
   ]
  },
  {
   "cell_type": "code",
   "execution_count": 50,
   "metadata": {},
   "outputs": [
    {
     "name": "stdout",
     "output_type": "stream",
     "text": [
      "output_monodepth/raw_data/2011_09_26/2011_09_26_drive_0002_sync/image_02/data/0000000069.png\n"
     ]
    }
   ],
   "source": [
    "img_name = img_names[0]\n",
    "print(img_name)"
   ]
  },
  {
   "cell_type": "code",
   "execution_count": 35,
   "metadata": {},
   "outputs": [
    {
     "name": "stdout",
     "output_type": "stream",
     "text": [
      "output_monodepth/raw_data/2011_09_26/2011_09_26_drive_0002_sync/image_02/data/0000000069\n"
     ]
    }
   ],
   "source": [
    "\n",
    "filename = os.path.join(\n",
    "            output_path, os.path.splitext(img_name)[0][1:]\n",
    ").replace(input_path, \"\")\n",
    "print(filename)"
   ]
  },
  {
   "cell_type": "code",
   "execution_count": 40,
   "metadata": {},
   "outputs": [
    {
     "data": {
      "text/plain": [
       "'output_monodepth/raw_data/2011_09_26/2011_09_26_drive_0002_sync/image_02/data'"
      ]
     },
     "execution_count": 40,
     "metadata": {},
     "output_type": "execute_result"
    }
   ],
   "source": [
    "os.path.dirname(filename)"
   ]
  },
  {
   "cell_type": "code",
   "execution_count": 62,
   "metadata": {},
   "outputs": [
    {
     "name": "stdout",
     "output_type": "stream",
     "text": [
      "output_monodepth/raw_data/2011_09_26/2011_09_26_drive_0002_sync/image_02/data/0000000069.png\n",
      "/home/data/kitti/data_depth_annotated/val/2011_09_26_drive_0002_sync/proj_depth/groundtruth/image_02/0000000069.png\n"
     ]
    }
   ],
   "source": [
    "gt_path = \"/home/data/kitti\"\n",
    "pred_depth = \"output_monodepth\"\n",
    "\n",
    "data_filenames_path = \"eigen_benchmark/test_list.txt\"\n",
    "\n",
    "pred_filenames = []\n",
    "gt_filenames = []\n",
    "\n",
    "with open(data_filenames_path, \"r\") as file:\n",
    "    for line in file:\n",
    "        img_name, depth_name = line.split()\n",
    "        pred_filenames.append(os.path.join(pred_depth, img_name[1:]))\n",
    "        gt_filenames.append(os.path.join(gt_path, depth_name[1:]))\n",
    "print(pred_filenames[0])\n",
    "print(gt_filenames[0])"
   ]
  },
  {
   "cell_type": "code",
   "execution_count": 64,
   "metadata": {},
   "outputs": [
    {
     "name": "stdout",
     "output_type": "stream",
     "text": [
      "0 /home/data/kitti/data_depth_annotated/val/2011_09_26_drive_0002_sync/proj_depth/groundtruth/image_02/0000000069.png\n"
     ]
    }
   ],
   "source": [
    "for t_id, gt_depth_path in enumerate(gt_filenames):\n",
    "    print(t_id, gt_depth_path)\n",
    "    break"
   ]
  }
 ],
 "metadata": {
  "kernelspec": {
   "display_name": "dpt",
   "language": "python",
   "name": "python3"
  },
  "language_info": {
   "codemirror_mode": {
    "name": "ipython",
    "version": 3
   },
   "file_extension": ".py",
   "mimetype": "text/x-python",
   "name": "python",
   "nbconvert_exporter": "python",
   "pygments_lexer": "ipython3",
   "version": "3.7.16"
  }
 },
 "nbformat": 4,
 "nbformat_minor": 2
}
